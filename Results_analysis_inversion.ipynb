{
 "cells": [
  {
   "cell_type": "code",
   "execution_count": null,
   "id": "b2e37adc-a516-4f7b-b60f-ea45c6ad1c31",
   "metadata": {},
   "outputs": [],
   "source": [
    "# Import necessary libraries\n",
    "import glob\n",
    "import numpy as np\n",
    "import matplotlib.pyplot as plt\n",
    "import matplotlib.ticker as ticker\n",
    "\n",
    "import pandas as pd\n",
    "import verde as vd\n",
    "import multiprocessing\n",
    "from itertools import accumulate\n",
    "\n",
    "from tqdm import tqdm\n",
    "\n",
    "import xarray as xr\n",
    "\n",
    "import time, array, random\n",
    "\n",
    "from deap import base, creator, tools, algorithms\n",
    "\n",
    "from CODES.modeling import create_seismic_model,calculate_parameters,calculate_parameters_from_vs\n",
    "from CODES.dispersion_curves import create_velocity_model_from_profile,create_velocity_model_from_profile_vs,estimate_disp_from_velocity_model"
   ]
  },
  {
   "cell_type": "markdown",
   "id": "986e79cc-5543-4a8a-ad44-2532e208df18",
   "metadata": {},
   "source": [
    "# Text based on:\n",
    "\n",
    "- Gallagher, K., & Sambridge, M. (1994). **Genetic algorithms: a powerful tool for large-scale nonlinear optimization problems**. Comput. Geosci., 20(7–8), 1229–1236.\n",
    "- Fortin, F. A., Rainville, F. M., Gardner, M., Parizeau, M., and Gagné, C. **DEAP: Evolutionary Algorithms Made Easy**, Journal of Machine Learning Research, pp. 2171-2175, no 13, jul 2012.\n",
    "- Haskell, N. A. ,1953, **The dispersion of surface waves on multi-layered media**, Bull. Seism. Soc. Am. 43, 17-34.\n",
    "- Xia, J., Miller, R. D.,  and Park,C. B., 1999, **Estimation of near‐surface shear‐wave velocity by inversion of Rayleigh waves**, GEOPHYSICS 1999 64:3, 691-700.\n",
    "- Yamanaka, H., and H. Ishida, 1996, **Application of genetic algorithms to an inversion of surface-wave dispersion data**, Bulletin of the Seismological Society of America, 86, 436–444."
   ]
  },
  {
   "cell_type": "markdown",
   "id": "686cf6e6-3eba-4f68-a1dc-0c2b11c4169a",
   "metadata": {
    "jp-MarkdownHeadingCollapsed": true
   },
   "source": [
    "# Inversion of Surface-Wave Dispersion Data\n",
    "\n",
    "**Rayleigh-wave phase velocity is the function of four parameters (Xia et al, 1999):**\n",
    "    - S-wave velocity;\n",
    "    - P-wave velocity;\n",
    "    - Density; and\n",
    "    - Layer thickness.\n",
    "\n",
    "In the process of retrieving a 2D Vs profile from a 3D layered earth model, the primary step involves extracting 1D Vs profiles at multiple locations across the study area. Since surface wave analysis is most sensitive to vertical variations in Vs, the lateral variations are effectively averaged out during data processing. This results in a 1D Vs model, often referred to as a layered earth model, where Vs is determined as a function of depth, while other parameters such as Vp and density (ρ) may be either included or held constant. Each 1D Vs profile is assigned to the central location of its respective receiver spread, representing the most characteristic subsurface structure at that point. By accumulating multiple such profiles, each tagged with a unique surface coordinate, a 2D Vs profile is constructed through spatial interpolation. This method enables a continuous Vs representation along a given transect while maintaining the fundamental assumption of a layered earth model.\n"
   ]
  },
  {
   "cell_type": "markdown",
   "id": "7d5d5087-317d-4b69-87a2-6e9b10425077",
   "metadata": {},
   "source": [
    "# Inputs and outputs"
   ]
  },
  {
   "cell_type": "code",
   "execution_count": null,
   "id": "49d6d1db-9927-4db3-be2c-70aaafb16b98",
   "metadata": {},
   "outputs": [],
   "source": [
    "folder_model_name = 'MCP2_2'"
   ]
  },
  {
   "cell_type": "markdown",
   "id": "4c4c02a2-3d0a-4b11-9df5-ef8c285e8d6c",
   "metadata": {},
   "source": [
    "### Directory for saving model and other related stuffs: "
   ]
  },
  {
   "cell_type": "code",
   "execution_count": null,
   "id": "431544eb-51fd-4b50-b7bd-cf4c2ccb11d4",
   "metadata": {},
   "outputs": [],
   "source": [
    "data_path = 'OUTPUT/'+folder_model_name+'/DATA/'"
   ]
  },
  {
   "cell_type": "markdown",
   "id": "83d11afa-6eeb-404c-b10f-aac6d21df8f0",
   "metadata": {},
   "source": [
    "### Directory for saving figures: "
   ]
  },
  {
   "cell_type": "code",
   "execution_count": null,
   "id": "e3a1951a-8df8-4cc5-b0c9-e34eb519fc2c",
   "metadata": {},
   "outputs": [],
   "source": [
    "figures_path = 'OUTPUT/'+folder_model_name+'/FIGURES/'"
   ]
  },
  {
   "cell_type": "markdown",
   "id": "6ff7a744-bbc2-42b5-b145-5875ed5ab73b",
   "metadata": {},
   "source": [
    "---------"
   ]
  },
  {
   "cell_type": "markdown",
   "id": "064da94f-a661-4bcd-8a9f-8852b0429bf3",
   "metadata": {},
   "source": [
    "# **Comparison and final analysis:**"
   ]
  },
  {
   "cell_type": "code",
   "execution_count": null,
   "id": "21d13aaa-67f4-4b00-b67e-953775065921",
   "metadata": {},
   "outputs": [],
   "source": [
    "lst_receptor = np.arange(1, 50-1,5)*2"
   ]
  },
  {
   "cell_type": "markdown",
   "id": "b972d307-99bb-4ed9-9e3b-c6e0dc0e1311",
   "metadata": {},
   "source": [
    "# Observed data"
   ]
  },
  {
   "cell_type": "code",
   "execution_count": null,
   "id": "e932258e-8a73-4669-8427-3de46c4dfe54",
   "metadata": {},
   "outputs": [],
   "source": [
    "obs_data = pd.read_feather(data_path+'observed_data.feather')\n",
    "obs_data"
   ]
  },
  {
   "cell_type": "code",
   "execution_count": null,
   "id": "57c009c7-b4f3-4302-8356-96f5fd8595e4",
   "metadata": {},
   "outputs": [],
   "source": [
    "obs_depth_result_lst = []\n",
    "obs_velocity_result_lst = []\n",
    "obs_receptor_result_lst = []\n",
    "\n",
    "depth_interval = -0.05\n",
    "\n",
    "for dativ in obs_data.iterrows():\n",
    "\n",
    "    depths = dativ[1]['depth'].tolist()[::-1]\n",
    "    vels_mean = dativ[1]['velocity_s'].tolist()[::-1]\n",
    "\n",
    "    depths_fine = []\n",
    "    vels_fine = []\n",
    "\n",
    "    # Iterate through depth intervals\n",
    "    for j in range(len(depths) - 1):\n",
    "        # Create a new depth array within the interval with finer sampling\n",
    "        depths_interval = np.arange(depths[j], depths[j + 1], depth_interval)\n",
    "\n",
    "        depths_fine.extend(depths_interval)\n",
    "        # Repeat the velocity value within the interval\n",
    "        vels_fine.extend([vels_mean[j]] * len(depths_interval))\n",
    "\n",
    "    obs_receptor_result_lst.append([lst_receptor[dativ[0]]]*len(vels_fine))\n",
    "    obs_depth_result_lst.append(depths_fine)\n",
    "    obs_velocity_result_lst.append(vels_fine)\n",
    "    \n",
    "obs_receptor_result_lst = np.array([item for sublist in obs_receptor_result_lst for item in sublist])\n",
    "obs_depth_result_lst = np.array([item for sublist in obs_depth_result_lst for item in sublist])\n",
    "obs_velocity_result_lst = np.array([item for sublist in obs_velocity_result_lst for item in sublist])\n",
    "\n",
    "# We'll test this on the air temperature data from Texas\n",
    "obs_coordinates = (obs_receptor_result_lst,obs_depth_result_lst)\n",
    "obs_velocitys = obs_velocity_result_lst\n",
    "obs_region = (0,100,-2,0)\n",
    "\n",
    "obs_shape = (100,100)\n",
    "\n",
    "# Now we can set up a gridder for the decimated data\n",
    "grd_obs = vd.KNeighbors().fit(obs_coordinates, obs_velocitys)\n",
    "\n",
    "# The 'grid' method can still make a geographic grid if we pass in a projection\n",
    "# function that converts lon, lat into the easting, northing coordinates that\n",
    "# we used in 'fit'. This can be any function that takes lon, lat and returns x,\n",
    "# y. In our case, it'll be the 'projection' variable that we created above.\n",
    "# We'll also set the names of the grid dimensions and the name the data\n",
    "# variable in our grid (the default would be 'scalars', which isn't very\n",
    "# informative).\n",
    "observed_grid = grd_obs.grid(\n",
    "    region=obs_region,\n",
    "    shape=obs_shape,\n",
    "    dims=[\"depth\",\"receptor\"],\n",
    "    data_names=\"velocity\",\n",
    ")"
   ]
  },
  {
   "cell_type": "code",
   "execution_count": null,
   "id": "1b523d01-38b9-412b-bdb7-411eccec7334",
   "metadata": {},
   "outputs": [],
   "source": [
    "fig,ax = plt.subplots(1, 1, figsize=(10, 5))\n",
    "\n",
    "im = plt.imshow(observed_grid.velocity.data, cmap='cividis',extent=[0, 100, -2.0, 0],vmin=100,vmax=1000,aspect=25,origin='lower')\n",
    "\n",
    "for idx,ix in enumerate(lst_receptor):\n",
    "    ax.vlines(x=ix,ymin=-2.0,ymax=0,colors='k',lw=1.0,ls='--',alpha=0.7)\n",
    "    ax.scatter(x=ix,y=0.05,color='k',marker='v')\n",
    "\n",
    "ax.hlines(y=0,xmin=0,xmax=100,colors='k',lw=2,ls='-',alpha=1)\n",
    "ax.set_xlabel('Distance (m)')\n",
    "ax.grid(which='major', color='gray', linestyle='-', linewidth=0.5)\n",
    "ax.grid(which='minor', color='gray', linestyle=':', linewidth=0.5, alpha=0.5)\n",
    "ax.set_ylabel('Depth (m)')\n",
    "plt.colorbar(im, ax=ax,fraction=0.15, shrink=0.5,label='Shear-wave velocity (m/s)')\n",
    "fig.savefig(figures_path+'observed_slice_and_receptors.png')"
   ]
  },
  {
   "cell_type": "markdown",
   "id": "5dc6c84f-b2f3-4c27-bcbc-df0e82644b03",
   "metadata": {},
   "source": [
    "# Inverted data"
   ]
  },
  {
   "cell_type": "code",
   "execution_count": null,
   "id": "b818e5a4-45e6-4502-860a-9dfb1e7d70bf",
   "metadata": {},
   "outputs": [],
   "source": [
    "df_inversion = pd.read_feather(data_path+'inversion_.feather')\n",
    "df_inversion"
   ]
  },
  {
   "cell_type": "code",
   "execution_count": null,
   "id": "c2f5a34c-4c9f-4352-af8b-a88043f36b39",
   "metadata": {},
   "outputs": [],
   "source": [
    "fig, ax = plt.subplots(figsize=(8, 6))\n",
    "for dativ in df_inversion.iterrows():\n",
    "    ax.semilogy(dativ[1]['ngen'], dativ[1]['misfit'], '-')  # Sem o label\n",
    "        \n",
    "ax.set_xlabel('Number of generations')\n",
    "ax.set_ylabel('Misfit value')\n",
    "ax.axvline(x=len(dativ[1]['ngen'])-1, color='red', linestyle='--', label='Last gen')\n",
    "ax.legend(loc='upper right')\n",
    "ax.grid(True, which='both')\n",
    "plt.tight_layout()\n",
    "ax.tick_params(axis='both', which='both', direction='in', \n",
    "               top=True, bottom=True, left=True, right=True,\n",
    "               labelbottom=True, labeltop=False, labelleft=True,\n",
    "               labelright=True)\n",
    "ax.grid(which='major', color='gray', linestyle='-', linewidth=0.5)\n",
    "ax.grid(which='minor', color='gray', linestyle=':', linewidth=0.5, alpha=0.5)\n",
    "ax.set_title('Misfit evolution')\n",
    "      \n",
    "fig.savefig(figures_path+'misfit_total_.png', dpi=300)"
   ]
  },
  {
   "cell_type": "markdown",
   "id": "f5f364d5-3549-41dc-acc9-25d66c00e95b",
   "metadata": {},
   "source": [
    "# The result was based on the three solutions with the lowest misfit values - Predicted data"
   ]
  },
  {
   "cell_type": "code",
   "execution_count": null,
   "id": "548c7e9b-9169-4f31-b4da-90b7eb476273",
   "metadata": {},
   "outputs": [],
   "source": [
    "depth_result_lst = []\n",
    "velocity_result_lst = [] \n",
    "receptor_result_lst = []\n",
    "\n",
    "fig, axs = plt.subplots(1, 10, layout=\"constrained\",figsize=(20, 5), facecolor='white',sharey=True)\n",
    "\n",
    "for prof_n in df_inversion['profile'].unique():\n",
    "    \n",
    "    ax = axs[prof_n-1]\n",
    "\n",
    "    # --------------\n",
    "    # Observed data\n",
    "\n",
    "    observed_profile_df = obs_data.loc[prof_n-1]\n",
    "    ax.step(observed_profile_df['velocity_s'],observed_profile_df['depth'], color='gray',ls='-',lw=4,where='post',zorder=-1)\n",
    "\n",
    "    # --------------\n",
    "    # Predicted data\n",
    "    \n",
    "    profile_df = df_inversion[df_inversion['profile'] == prof_n]\n",
    "    for dativ in profile_df.iterrows():\n",
    "        ax.step(np.insert(dativ[1]['Vs'],0,dativ[1]['Vs'][0]),np.insert(np.cumsum(dativ[1]['thick']),0,0)*-1, color='k',alpha=0.8,lw=0.1,ls='-',where='post')\n",
    "\n",
    "    sort_df = profile_df.sort_values(by='misfit_min').head(5)\n",
    "    vs_std = sort_df[\"Vs\"].apply(pd.Series).std().tolist()\n",
    "    vs_mean = sort_df[\"Vs\"].apply(pd.Series).mean().tolist()\n",
    "    thick_mean = sort_df[\"thick\"].apply(pd.Series).mean().tolist()\n",
    "    misfit_min_mean = sort_df[\"misfit_min\"].mean()\n",
    "\n",
    "    # --------------------------------------------\n",
    "    # Creating the grid at a specif depth interval\n",
    "\n",
    "    depth_interval = -0.01\n",
    "\n",
    "    depths = [0]+[-j for j in list(accumulate(thick_mean))]\n",
    "            \n",
    "    depths_fine = []\n",
    "    vels_fine = []\n",
    "          \n",
    "    # Iterate through depth intervals\n",
    "    for j in range(len(depths) - 1):\n",
    "        # Create a new depth array within the interval with finer sampling\n",
    "        depths_interval = np.arange(depths[j], depths[j + 1], depth_interval)\n",
    "        \n",
    "        depths_fine.extend(depths_interval)\n",
    "        # Repeat the velocity value within the interval\n",
    "        vels_fine.extend([vs_mean[j]] * len(depths_interval))\n",
    "\n",
    "    receptor_result_lst.append([lst_receptor[prof_n-1]]*len(vels_fine))\n",
    "    depth_result_lst.append(depths_fine)\n",
    "    velocity_result_lst.append(vels_fine)\n",
    "        \n",
    "    # ----------------\n",
    "    # Plotting results\n",
    "    \n",
    "    ax.step(np.insert(vs_mean,[0,-1],[vs_mean[0],vs_mean[-1]]),np.insert(np.cumsum(thick_mean),[0,-1],[0,2])*-1, color='k',lw=2,ls='-',where='post')\n",
    "    ax.step(np.insert(np.array(vs_mean)+np.array(vs_std),[0,-1],[vs_mean[0]+vs_std[0],vs_mean[-1]+vs_std[-1]]),np.insert(np.cumsum(thick_mean),[0,-1],[0,2])*-1, color='k',lw=1,ls='--',where='post')\n",
    "    ax.step(np.insert(np.array(vs_mean)-np.array(vs_std),[0,-1],[vs_mean[0]-vs_std[0],vs_mean[-1]-vs_std[-1]]),np.insert(np.cumsum(thick_mean),[0,-1],[0,2])*-1, color='k',lw=1,ls='--',where='post')\n",
    "    \n",
    "    ax.yaxis.set_minor_locator(ticker.MultipleLocator(0.1))\n",
    "    ax.yaxis.set_major_locator(ticker.MultipleLocator(0.4))\n",
    "    \n",
    "    ax.xaxis.set_minor_locator(ticker.MultipleLocator(100))\n",
    "    ax.xaxis.set_major_locator(ticker.MultipleLocator(500))\n",
    "\n",
    "    \n",
    "    ax.set_xlabel('S-velocity (m/s)')\n",
    "    ax.set_ylim(-2,0)\n",
    "    ax.set_xlim(0,1100)\n",
    "    ax.grid(True, which='both',color='gray', linestyle=':', linewidth=0.25)\n",
    "    ax.tick_params(axis='both', which='both', direction='in', \n",
    "               top=True, bottom=True, left=True, right=True,\n",
    "               labelbottom=True, labeltop=False, labelleft=False,\n",
    "               labelright=False)\n",
    "    ax.set_title('Station '+str(prof_n))\n",
    "    if prof_n == df_inversion['profile'].unique()[0]:\n",
    "        ax.set_ylabel('Depth (m)')\n",
    "        ax.tick_params(axis='both', which='both', direction='in', \n",
    "               top=True, bottom=True, left=True, right=True,\n",
    "               labelbottom=True, labeltop=False, labelleft=True,\n",
    "               labelright=False)\n",
    "    if prof_n == df_inversion['profile'].unique()[-1]:\n",
    "        ax.set_ylabel('Depth (m)')\n",
    "        ax.yaxis.set_label_position('right')  # Move o rótulo para a direita\n",
    "        ax.tick_params(axis='both', which='both', direction='in', \n",
    "               top=True, bottom=True, left=True, right=True,\n",
    "               labelbottom=True, labeltop=False, labelleft=False,\n",
    "               labelright=True)\n",
    "\n",
    "fig.savefig(figures_path+'observed_predicted_profiles.png')\n",
    "\n",
    "\n",
    "receptor_result_lst = np.array([item for sublist in receptor_result_lst for item in sublist])\n",
    "depth_result_lst = np.array([item for sublist in depth_result_lst for item in sublist])\n",
    "velocity_result_lst = np.array([item for sublist in velocity_result_lst for item in sublist])\n",
    "   "
   ]
  },
  {
   "cell_type": "code",
   "execution_count": null,
   "id": "92433dde-a002-4969-b093-4630a3536e0a",
   "metadata": {},
   "outputs": [],
   "source": [
    "# GRID\n",
    "\n",
    "# ----------\n",
    "# Input data\n",
    "\n",
    "coordinates = (receptor_result_lst, depth_result_lst)\n",
    "velocitys = velocity_result_lst\n",
    "region = (0,100,-2,0)\n",
    "    \n",
    "shape = (100,100)\n",
    "    \n",
    "# Now we can set up a gridder for the decimated data\n",
    "grd_predic = vd.KNeighbors().fit(coordinates, velocitys)\n",
    "    \n",
    "# The 'grid' method can still make a geographic grid if we pass in a projection\n",
    "predicted_grid = grd_predic.grid(region=region,shape=shape,dims=[\"depth\",\"receptor\"],data_names=\"velocity\")\n",
    "\n",
    "# plotting \n",
    "fig,ax = plt.subplots(1, 1, figsize=(10, 5))\n",
    "\n",
    "im = plt.imshow(predicted_grid.velocity.data, cmap='cividis',extent=[0, 100, -2.0, 0],vmin=100,vmax=1000,aspect=25,origin='lower')\n",
    "\n",
    "for ix in lst_receptor:\n",
    "    ax.vlines(x=ix,ymin=-2.0,ymax=0,colors='k',lw=1.0,ls='--',alpha=0.7)\n",
    "    ax.scatter(x=ix,y=0.05,color='k',marker='v')\n",
    "\n",
    "ax.hlines(y=0,xmin=0,xmax=100,colors='k',lw=2,ls='-',alpha=1)\n",
    "ax.set_xlabel('Distance (m)')\n",
    "ax.grid(which='major', color='gray', linestyle='-', linewidth=0.5)\n",
    "ax.grid(which='minor', color='gray', linestyle=':', linewidth=0.5, alpha=0.5)\n",
    "ax.set_ylabel('Depth (m)')\n",
    "plt.colorbar(im, ax=ax,fraction=0.15, shrink=0.5,label='Shear-wave velocity (m/s)')\n",
    "fig.savefig(figures_path+'inversion_slice_and_receptors.png')"
   ]
  },
  {
   "cell_type": "markdown",
   "id": "e28644c6-c012-40a1-8182-2765ee0317bd",
   "metadata": {},
   "source": [
    "# Error"
   ]
  },
  {
   "cell_type": "code",
   "execution_count": null,
   "id": "e217935a-d09a-499e-9cdc-3a8a78dcc087",
   "metadata": {},
   "outputs": [],
   "source": [
    "deviation_grid = observed_grid - predicted_grid"
   ]
  },
  {
   "cell_type": "code",
   "execution_count": null,
   "id": "d115ef32-22ab-40d1-ac97-94d84074b419",
   "metadata": {},
   "outputs": [],
   "source": [
    "fig,ax = plt.subplots(1, 1, figsize=(10, 5))\n",
    "\n",
    "im = plt.imshow(deviation_grid.velocity.data, cmap='coolwarm_r',extent=[0, 100, -2.0, 0],vmin=-300,vmax=300,aspect=25,origin='lower')\n",
    "\n",
    "for idx,ix in enumerate(lst_receptor):\n",
    "    ax.vlines(x=ix,ymin=-2.0,ymax=0,colors='k',lw=1.0,ls='--',alpha=0.7)\n",
    "    ax.scatter(x=ix,y=0.05,color='k',marker='v')\n",
    "\n",
    "ax.hlines(y=0,xmin=0,xmax=100,colors='k',lw=2,ls='-',alpha=1)\n",
    "ax.set_xlabel('Distance (m)')\n",
    "ax.grid(which='major', color='gray', linestyle='-', linewidth=0.5)\n",
    "ax.grid(which='minor', color='gray', linestyle=':', linewidth=0.5, alpha=0.5)\n",
    "ax.set_ylabel('Depth (m)')\n",
    "plt.colorbar(im, ax=ax,fraction=0.15, shrink=0.5,label='Deviation (m/s)')\n",
    "fig.savefig(figures_path+'deviation_observed_predicted_receptors.png')"
   ]
  },
  {
   "cell_type": "code",
   "execution_count": null,
   "id": "cd04e386-1749-4e95-bf64-bf2dfc80da30",
   "metadata": {},
   "outputs": [],
   "source": []
  }
 ],
 "metadata": {
  "kernelspec": {
   "display_name": "Python 3 (ipykernel)",
   "language": "python",
   "name": "python3"
  },
  "language_info": {
   "codemirror_mode": {
    "name": "ipython",
    "version": 3
   },
   "file_extension": ".py",
   "mimetype": "text/x-python",
   "name": "python",
   "nbconvert_exporter": "python",
   "pygments_lexer": "ipython3",
   "version": "3.12.2"
  }
 },
 "nbformat": 4,
 "nbformat_minor": 5
}
