# Import necessary libraries
import gempy as gp
import gempy_viewer as gpv
import glob
import numpy as np
import matplotlib.pyplot as plt
import matplotlib.colors as mcolors
import pandas as pd
import os
import verde as vd
import gemgis as gg
import pyvista as pv
from disba import PhaseDispersion,EigenFunction,PhaseSensitivity

import time, array, random

from deap import base, creator, tools, algorithms
from IPython.display import display, HTML


from CODES.modeling import create_seismic_model,calculate_parameters,calculate_parameters_from_vs
from CODES.pyvista_create_gif import pyvista_create_gif





folder_model_name = 'MCP1'





data_path = 'OUTPUT/'+folder_model_name+'/DATA/'





figures_path = 'OUTPUT/'+folder_model_name+'/FIGURES/'


# Creating directories: 
os.makedirs(data_path,exist_ok=True)
os.makedirs(figures_path,exist_ok=True)














#    MWC
#    depth_ranges = [(-0.3, -0.5), (-0.8, -1.0), (-1.3, -1.5)] # meters
#    density_ranges = [(1.1, 1.2), (1.3, 1.4), (1.5, 1.7)] # g/cm³


#    MCP1
#    depth_ranges = [(-0.3, -0.5), (-0.8, -1.0), (-1.3, -1.5)] # meters
#    density_ranges = [(1.6, 1.7), (1.2, 1.3), (1.4, 1.5)] # g/cm³


#    MCP2-1
#    depth_ranges = [(-0.3, -0.5), (-0.8, -1.0), (-1.3, -1.5)] # meters
#    density_ranges = [(1.1, 1.2), (1.5, 1.7), (1.3, 1.4)] # g/cm³


#    MCP2-2
#    depth_ranges = [(-0.4, -0.4), (-0.9, -0.9), (-1.5, -1.5)] # meters
#    density_ranges = [(1.1, 1.2), (1.5, 1.7), (1.3, 1.4)] # g/cm³





num_layers = 3
depth_ranges = [(-0.3, -0.5), (-0.8, -1.0), (-1.3, -1.5)] # meters
density_ranges = [(1.6, 1.7), (1.2, 1.3), (1.4, 1.5)] # g/cm³








spacing = 25

west, east, south, north = 0, 100, 0, 100
region = (west, east, south, north)

# create the grid coordinates
X,Y = vd.grid_coordinates(region=region, spacing=spacing)


plt.figure(figsize=(5, 5))
ax = plt.subplot(111)
ax.scatter(X,Y,s=10,c='k',marker='.')
ax.set_title('2D grid created')
plt.xlabel("Easting")
plt.ylabel("Northing")
plt.savefig(figures_path+'grid.png')





model = create_seismic_model(depth_ranges=depth_ranges,density_ranges=density_ranges,num_layers=num_layers,xi=X,yj=Y)





density_grid = np.concatenate(model['densities'])
depth_grid = np.concatenate(model['depths'])


# Plotar o perfil de densidade ajustado
fig, ax = plt.subplots(figsize=(12, 6))
cmap = plt.get_cmap("cividis")
norm = mcolors.Normalize(vmin=1.0, vmax=2.0)
extent = [0, 100, -1.5, 0]
cax = ax.imshow(density_grid, extent=extent, origin='upper', cmap=cmap, aspect='auto', norm=norm)

# Adicionar barra de cores
cbar = fig.colorbar(cax)
cbar.set_label('Density (g/cm³)', rotation=270, labelpad=15)

# Configurações do gráfico
ax.set_xlabel('Distance (m)')
ax.set_ylabel('Depth (m)')
ax.set_title('Density in function of depth and distance')

# Ajustar layout e salvar o gráfico
plt.tight_layout()
plt.savefig(figures_path+'profile_density.png', dpi=300)
plt.show()





lst_soils = []
for l in range(num_layers):
    for k in range(len(model['xi'][l].ravel())):
            lst_soils.append({'X':model['xi'][l].ravel()[k], 'Y':model['yj'][l].ravel()[k], 'Z':model['depths'][l].ravel()[k], 'formation':model['formation'][l]})


soils_df = pd.DataFrame.from_dict(data=lst_soils)


soils_df


if os.path.exists(data_path+'points.csv' ):
    os.remove(data_path+'points.csv')
soils_df.to_csv(data_path+'points.csv', header=soils_df.columns, index=None, sep=',', mode='a')





lst_soils_orient = []
for l in range(num_layers):
    for tim in range(4):
        lst_soils_orient.append({'X':np.random.choice(model['xi'][l].ravel())*0.75, 'Y':np.random.choice(model['yj'][l].ravel())*0.75, 'Z':np.random.choice(model['depths'][l].ravel())*0.9, 'formation':model['formation'][l],'Azimuth':0,'Dip':0,'Polarity':1})
soils_orient_df = pd.DataFrame.from_dict(data=lst_soils_orient)


soils_orient_df


if os.path.exists(data_path+'orientations.csv' ):
    os.remove(data_path+'orientations.csv')
soils_orient_df.to_csv(data_path+'orientations.csv', header=soils_orient_df.columns, index=None, sep=',', mode='a')





grid_reso = 50
# Dados do modelo
extent = [0, 100, 0, 100, -2,0]  # [x_min, x_max, y_min, y_max, z_min, z_max]
resolution = [grid_reso,grid_reso,int(grid_reso/2)]  # Resolução do grid


data = gp.create_geomodel(
    project_name='soil_horizontal',
    extent=extent,
    resolution=resolution,
    importer_helper=gp.data.ImporterHelper(
        path_to_orientations=data_path+"/orientations.csv",
        path_to_surface_points=data_path+"/points.csv"
    )
)





gp.compute_model(data)
geo_data = data





gp.map_stack_to_surfaces(
    gempy_model=geo_data,
    mapping_object={
        "Strat_Series1": tuple(soils_orient_df.formation.unique().tolist())
    }
)


gp.compute_model(geo_data)





gpv.plot_2d(geo_data, direction=['x'],ve=25, show_data=True, show_boundaries=True)


gpv.plot_2d(geo_data, cell_number=[-1], direction=['y'],ve=10, show=True,kwargs_regular_grid={'alpha': .5})


gempy_plot = gpv.plot_3d(
    model=geo_data,
    show_scalar=False,
    ve=10,
    show=False,
    image=False,
    transformed_data=False,
    kwargs_pyvista_bounds={
            'show_xlabels': False,
            'show_ylabels': False,
            'show_zlabels': True,
            'show_xaxis': False,
            'show_yaxis': False,
    },
    kwargs_plot_data={
            'arrow_size': 40.0
    }
)



gempy_plot.p.show()


gpv.plot_2d(geo_data, show_value=False, show_lith=False, show_scalar=False,legend=False, cell_number='mid')








lith_block = geo_data.solutions.raw_arrays.lith_block.reshape(grid_reso,grid_reso,int(grid_reso/2))
lith_block.shape





density_values,density_index = np.unique(geo_data.solutions.raw_arrays.lith_block,return_index=True) 


density_values[np.argsort(density_index)]


density_values = [np.mean(i) for i in model['densities']]
density_values.append(2.0) # Basement density (g/cm³)





density_dict = {k: v for k,v in zip(np.unique(np.round(lith_block)), density_values)} 
density_dict





density_block = gg.utils.assign_properties(lith_block=lith_block, property_dict=density_dict)
density_block[0]


density_block.shape





np.save(data_path+'density_block.npy', density_block)


volume = pv.wrap(density_block)


volume.save(data_path+'density_block.vtk',binary=True)





folder_input = 'OUTPUT/'+folder_model_name
pyvista_create_gif(folder_input)





img_src = folder_input+'/FIGURES/block_soil_model.gif'
html_code = f'<img src="{img_src}" width="750" align="center">'


display(HTML(html_code))



