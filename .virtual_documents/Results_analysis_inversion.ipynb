# Import necessary libraries
import glob
import numpy as np
import matplotlib.pyplot as plt
import matplotlib.ticker as ticker
import matplotlib as mpl

import pandas as pd
import verde as vd
import multiprocessing
from itertools import accumulate

from tqdm import tqdm

import xarray as xr

import time, array,random

from deap import base, creator, tools, algorithms

from CODES.modeling import create_seismic_model,calculate_parameters,calculate_parameters_from_vs
from CODES.dispersion_curves import create_velocity_model_from_profile,create_velocity_model_from_profile_vs,estimate_disp_from_velocity_model,compute_dispersion
from CODES.evolutionary_algorithm import process_depths,homogenize_depth_grid,bootstrap_hof_uncertainty

from parameters_py.config import (
					MODEL_NAME,FOLDER_OUTPUT,MAX_TOTAL,DEPTH_INTERVAL)





np.random.seed(42)  # any integer works














data_path = FOLDER_OUTPUT+MODEL_NAME+'/DATA/'





figures_path = FOLDER_OUTPUT+MODEL_NAME+'/FIGURES/'











obs_data = pd.read_feather(data_path+'observed_data.feather')
obs_data


obs_depth_result_lst = []
obs_velocity_result_lst = []
obs_receptor_result_lst = []

depth_interval = -DEPTH_INTERVAL

for dativ in obs_data.iterrows():

    depths = dativ[1]['depth'].tolist()[::-1]
    vels_mean = dativ[1]['velocity_s'].tolist()[::-1]
    lst_receptor = dativ[1]['receptor']*2

    depths_fine = []
    vels_fine = []

    # Iterate through depth intervals
    for j in range(len(depths) - 1):
        # Create a new depth array within the interval with finer sampling
        depths_interval = np.arange(depths[j], depths[j + 1], depth_interval)

        depths_fine.extend(depths_interval)
        # Repeat the velocity value within the interval
        vels_fine.extend([vels_mean[j]] * len(depths_interval))

    obs_receptor_result_lst.append([lst_receptor]*len(vels_fine))
    obs_depth_result_lst.append(depths_fine)
    obs_velocity_result_lst.append(vels_fine)
    
obs_receptor_result_lst = np.array([item for sublist in obs_receptor_result_lst for item in sublist])
obs_depth_result_lst = np.array([item for sublist in obs_depth_result_lst for item in sublist])
obs_velocity_result_lst = np.array([item for sublist in obs_velocity_result_lst for item in sublist])

# We'll test this on the air temperature data from Texas
obs_coordinates = (obs_receptor_result_lst,obs_depth_result_lst)
obs_velocitys = obs_velocity_result_lst
obs_region = (0,100,-2,0)

obs_shape = (100,100)

# Now we can set up a gridder for the decimated data
grd_obs = vd.KNeighbors().fit(obs_coordinates, obs_velocitys)

# The 'grid' method can still make a geographic grid if we pass in a projection
# function that converts lon, lat into the easting, northing coordinates that
# we used in 'fit'. This can be any function that takes lon, lat and returns x,
# y. In our case, it'll be the 'projection' variable that we created above.
# We'll also set the names of the grid dimensions and the name the data
# variable in our grid (the default would be 'scalars', which isn't very
# informative).
observed_grid = grd_obs.grid(
    region=obs_region,
    shape=obs_shape,
    dims=["depth","receptor"],
    data_names="velocity",
)


fig,ax = plt.subplots(1, 1, figsize=(10, 5))

im = plt.imshow(observed_grid.velocity.data, cmap='cividis',extent=[0, 100, -2.0, 0],vmin=100,vmax=1000,aspect=25,origin='lower')

for idx,ix in enumerate(obs_data['receptor']):
    ax.vlines(x=ix*2,ymin=-2.0,ymax=0,colors='k',lw=1.0,ls='--',alpha=0.7)
    ax.scatter(x=ix*2,y=0.05,color='k',marker='v')

ax.hlines(y=0,xmin=0,xmax=100,colors='k',lw=2,ls='-',alpha=1)
ax.set_xlabel('Distance (m)')
ax.grid(which='major', color='gray', linestyle='-', linewidth=0.5)
ax.grid(which='minor', color='gray', linestyle=':', linewidth=0.5, alpha=0.5)
ax.set_ylabel('Depth (m)')
plt.colorbar(im, ax=ax,fraction=0.15, shrink=0.5,label='Shear-wave velocity (m/s)')
fig.savefig(figures_path+'observed_slice_and_receptors.png')





df_inversion = pd.read_feather(data_path+'inversion.feather')
df_inversion.head(1)


df_inversion_all = pd.read_feather(data_path+'inversion_all.feather')
df_inversion_all.head(1)








# List to store the expanded data
expanded_data = []

# Iterate over each row of the original DataFrame
for _, row in df_inversion.iterrows():
    station = row['station']
    receptor = row['receptor']
    inversion = row['inversion']
        
    # Check that Vs and thick have the same number of inner lists
    vs_lists = row['Vs']
    thick_lists = row['thick']
    misfit_min_lists = row['misfit_min']
    
    # For each inner list in Vs and thick, create a new row
    for vs_sublist, thick_sublist,misfit_min_list in zip(vs_lists, thick_lists,misfit_min_lists):
        expanded_data.append({
            'Vs': vs_sublist,
            'thick': thick_sublist,
            'misfit_min': misfit_min_list,
            'station': station,
            'receptor': receptor,
            'inversion': inversion
        })

# Create the new DataFrame
df_inversion_bootstrap = pd.DataFrame(expanded_data)


df_inversion_bootstrap


df_inversion_bootstrap[['depth_interval', 'Vs_interval']] = df_inversion_bootstrap.apply(homogenize_depth_grid, axis=1)


dic_bootstrap_results = []

for sta in  tqdm(df_inversion_bootstrap['station'].unique(),total=len(df_inversion_bootstrap['station'].unique()),desc='Station', leave=True, dynamic_ncols=True,colour='green'):
    dic_bootstrap_results.append(bootstrap_hof_uncertainty(df_inversion_bootstrap[df_inversion_bootstrap['station'] == sta]))


df_bootstrap_results = pd.DataFrame(dic_bootstrap_results)


fig, ax = plt.subplots(figsize=(8, 6))

# cria um colormap (10 cores, normalizando de 1 a 10)
norm = plt.Normalize(vmin=df_inversion['station'].values.min(), vmax=df_inversion['station'].values.max())
# Norm para associar cada estação a uma cor
norm = mpl.colors.BoundaryNorm(boundaries=np.arange(df_inversion['station'].values.min()-0.5, 
                                                    df_inversion['station'].values.max()+1.5, 1),
                                                    ncolors=len(df_inversion['station'].values))
# forma moderna de pegar colormap
cmap = plt.get_cmap('magma', len(df_inversion['station'].values))  # ainda funciona para cores discretas

for dativ in df_inversion.iterrows():
    color = cmap(norm(dativ[1]['station']))
    ax.semilogy(dativ[1]['ngen'], dativ[1]['misfit'], '-',color=color)
        
ax.set_xlabel('Number of generations')
ax.set_ylabel('Misfit value')
ax.axvline(x=len(dativ[1]['ngen'])-1, color='red', linestyle='--', label='Last gen')
ax.legend(loc='upper right')
ax.grid(True, which='both')
plt.tight_layout()
ax.tick_params(axis='both', which='both', direction='in', 
               top=True, bottom=True, left=True, right=True,
               labelbottom=True, labeltop=False, labelleft=True,
               labelright=True)
ax.grid(which='major', color='gray', linestyle='-', linewidth=0.5)
ax.grid(which='minor', color='gray', linestyle=':', linewidth=0.5, alpha=0.5)
ax.set_title('Misfit evolution')

# ScalarMappable para a colorbar
sm = mpl.cm.ScalarMappable(cmap=cmap, norm=norm)
sm.set_array([])

# Colorbar discreta
cbar = plt.colorbar(sm, ax=ax, ticks=df_inversion['station'].values)
cbar.set_label("Station")
      
fig.savefig(figures_path+'misfit_total_.png', dpi=300)


depth_result_lst = []
velocity_result_lst = [] 
receptor_result_lst = []

fig, axs = plt.subplots(1, 10, layout="constrained",figsize=(20, 5), facecolor='white',sharey=True)

for prof_n in df_bootstrap_results['station'].unique():
    
    ax = axs[prof_n-1]

    # --------------
    # Observed data

    observed_profile_df = obs_data.loc[prof_n-1]
    ax.step(observed_profile_df['velocity_s'],[-dep for dep in observed_profile_df['depth']], color='gray',ls='-',lw=4,where='post',zorder=-1)

    # --------------
    # Predicted data
    
    profile_df = df_bootstrap_results.loc[prof_n-1]

    # --------------
    # Gradientes (dVs/dDepth)

    depth_pred = profile_df['mean_depth']
    vs_pred    = profile_df['mean_vs']
    
    depth_obs = observed_profile_df['depth']
    vs_obs    = observed_profile_df['velocity_s']
    
    grad_obs  = np.gradient(vs_obs, depth_obs)
    grad_pred = np.gradient(vs_pred, depth_pred)
      
    # ----------------
    # Plotting results
    
    ax.step(profile_df['mean_vs'],profile_df['mean_depth'], color='k',lw=2,ls='-',where='post')
    ax.step(profile_df['ci_lower_vs'],profile_df['ci_lower_depth'], color='k',lw=0.75,ls='--',where='post')
    ax.step(profile_df['ci_upper_vs'],profile_df['ci_upper_depth'], color='k',lw=0.75,ls='--',where='post')

    # Axis x to gradient
    ax2 = ax.twiny()
    ax2.plot(grad_pred, depth_pred, color='r', lw=1.5,ls='--')
    ax2.tick_params(axis='both', which='both', direction='in',top=False, bottom=False, left=False, right=False,labelbottom=False, labeltop=False, labelleft=False,labelright=False)
    ax.yaxis.set_minor_locator(ticker.MultipleLocator(0.1))
    ax.yaxis.set_major_locator(ticker.MultipleLocator(0.4))
    
    ax.xaxis.set_minor_locator(ticker.MultipleLocator(100))
    ax.xaxis.set_major_locator(ticker.MultipleLocator(500))

    ax.set_xlabel('Vs (m/s)')

    ax.set_ylim(2,0)
    ax.set_xlim(0,1100)
    ax.grid(True, which='both',color='gray', linestyle=':', linewidth=0.25)
    ax.tick_params(axis='both', which='both', direction='in',top=True, bottom=True, left=True, right=True,labelbottom=True, labeltop=False, labelleft=False,labelright=False)
    ax.set_title('Station '+str(prof_n))
    if prof_n == df_inversion['station'].unique()[0]:
        ax.set_ylabel('Depth (m)')
        ax.tick_params(axis='both', which='both', direction='in',top=True, bottom=True, left=True, right=True,labelbottom=True, labeltop=False, labelleft=True,labelright=False)
    if prof_n == df_inversion['station'].unique()[-1]:
        ax.set_ylabel('Depth (m)')
        ax.yaxis.set_label_position('right')
        ax.tick_params(axis='both', which='both', direction='in',top=True, bottom=True, left=True, right=True,labelbottom=True, labeltop=False, labelleft=False,labelright=True)

fig.savefig(figures_path+'observed_predicted_profiles.png')


receptor_result_lst = np.array([item for sublist in receptor_result_lst for item in sublist])
depth_result_lst = np.array([item for sublist in depth_result_lst for item in sublist])
velocity_result_lst = np.array([item for sublist in velocity_result_lst for item in sublist])


df_inversion_bootstrap_all


df_inversion_bootstrap[['simulated_dispersion', 'simulated_frequency']] = (df_inversion_bootstrap.apply(compute_dispersion,axis=1,vs_col='Vs',depth_col='thick'))


fig, axs = plt.subplots(1, 10, layout="constrained",figsize=(20, 2), facecolor='white',sharey=True)

for prof_n in df_inversion_bootstrap['station'].unique():
    
    ax = axs[prof_n-1]

    # --------------
    # Observed data

    observed_profile_df = obs_data.loc[prof_n-1]
    ax.scatter(observed_profile_df['frequency'],observed_profile_df['dispersion_curve'],marker='.',c='k',s=10,label='obs')

    # --------------
    # Predicted data
    
    profile_df = df_inversion_bootstrap[df_inversion_bootstrap['station'] == prof_n]
    for simulated_frequency, simulated_dispersion in zip(profile_df['simulated_frequency'],profile_df['simulated_dispersion']):
        ax.scatter(simulated_frequency,simulated_dispersion,marker='.',c='r',alpha=0.025,s=5)
    ax.scatter([],[],marker='.',c='r',s=5,label='inv')


    ax.yaxis.set_minor_locator(ticker.MultipleLocator(100))
    ax.yaxis.set_major_locator(ticker.MultipleLocator(200))
    
    ax.xaxis.set_minor_locator(ticker.MultipleLocator(10))
    ax.xaxis.set_major_locator(ticker.MultipleLocator(20))

    ax.set_xlim(1,100)
    ax.set_xlabel('Frequency (Hz)')

    ax.grid(True, which='both',color='gray', linestyle=':', linewidth=0.25)
    ax.tick_params(axis='both', which='both', direction='in',top=True, bottom=True, left=True, right=True,labelbottom=True, labeltop=False, labelleft=False,labelright=False)
    ax.set_title('Station '+str(prof_n))

    if prof_n == df_bootstrap_results['station'].unique()[0]:
        ax.set_ylabel('Phase velocity (m/s)')
        ax.tick_params(axis='both', which='both', direction='in',top=True, bottom=True, left=True, right=True,labelbottom=True, labeltop=False, labelleft=True,labelright=False)

    if prof_n == df_bootstrap_results['station'].unique()[-1]:
        ax.set_ylabel('Phase velocity (m/s)')
        ax.yaxis.set_label_position('right')
        ax.tick_params(axis='both', which='both', direction='in',top=True, bottom=True, left=True, right=True,labelbottom=True, labeltop=False, labelleft=False,labelright=True)
    ax.legend(loc='lower left')
fig.savefig(figures_path+'observed_predicted_dispersion_curves.png')   


df_bootstrap_results





depth_result_lst 


# GRID

velocity_result_lst = [i for i in df_bootstrap_results['mean_vs'].values]
receptor_result_lst =  [int(i) for i in df_inversion_bootstrap['receptor'].values]
depth_result_lst  = [-i for i in df_bootstrap_results['mean_depth'].values]

receptor_result_lst = np.array(receptor_result_lst)
depth_result_lst = np.array([item for sublist in depth_result_lst for item in sublist])
velocity_result_lst = np.array([item for sublist in velocity_result_lst for item in sublist])

# ----------
# Input data

coordinates = (receptor_result_lst, depth_result_lst)
velocitys = velocity_result_lst
region = (0,100,-2,0)
    
shape = (100,100)
    
# Now we can set up a gridder for the decimated data
grd_predic = vd.KNeighbors().fit(coordinates, velocitys)
    
# The 'grid' method can still make a geographic grid if we pass in a projection
predicted_grid = grd_predic.grid(region=region,shape=shape,dims=["depth","receptor"],data_names="velocity")

# plotting 
fig,ax = plt.subplots(1, 1, figsize=(10, 5))

im = plt.imshow(predicted_grid.velocity.data, cmap='cividis',extent=[0, 100, -2.0, 0],vmin=100,vmax=1000,aspect=25,origin='lower')

#for ix in lst_receptor:
#    ax.vlines(x=ix,ymin=-2.0,ymax=0,colors='k',lw=1.0,ls='--',alpha=0.7)
#    ax.scatter(x=ix,y=0.05,color='k',marker='v')

ax.hlines(y=0,xmin=0,xmax=100,colors='k',lw=2,ls='-',alpha=1)
ax.set_xlabel('Distance (m)')
ax.grid(which='major', color='gray', linestyle='-', linewidth=0.5)
ax.grid(which='minor', color='gray', linestyle=':', linewidth=0.5, alpha=0.5)
ax.set_ylabel('Depth (m)')
plt.colorbar(im, ax=ax,fraction=0.15, shrink=0.5,label='Shear-wave velocity (m/s)')
fig.savefig(figures_path+'inversion_slice_and_receptors.png')





deviation_grid = observed_grid - predicted_grid


fig,ax = plt.subplots(1, 1, figsize=(10, 5))

im = plt.imshow(deviation_grid.velocity.data, cmap='coolwarm_r',extent=[0, 100, -2.0, 0],vmin=-300,vmax=300,aspect=25,origin='lower')

#for idx,ix in enumerate(lst_receptor):
#    ax.vlines(x=ix,ymin=-2.0,ymax=0,colors='k',lw=1.0,ls='--',alpha=0.7)
#    ax.scatter(x=ix,y=0.05,color='k',marker='v')

ax.hlines(y=0,xmin=0,xmax=100,colors='k',lw=2,ls='-',alpha=1)
ax.set_xlabel('Distance (m)')
ax.grid(which='major', color='gray', linestyle='-', linewidth=0.5)
ax.grid(which='minor', color='gray', linestyle=':', linewidth=0.5, alpha=0.5)
ax.set_ylabel('Depth (m)')
plt.colorbar(im, ax=ax,fraction=0.15, shrink=0.5,label='Deviation (m/s)')
fig.savefig(figures_path+'deviation_observed_predicted_receptors.png')






