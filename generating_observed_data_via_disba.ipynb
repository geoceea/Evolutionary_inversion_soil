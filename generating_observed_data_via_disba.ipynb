{
 "cells": [
  {
   "cell_type": "code",
   "execution_count": null,
   "id": "b2e37adc-a516-4f7b-b60f-ea45c6ad1c31",
   "metadata": {},
   "outputs": [],
   "source": [
    "# Import necessary libraries\n",
    "import gempy as gp\n",
    "import gempy_viewer as gpv\n",
    "import glob\n",
    "import numpy as np\n",
    "import matplotlib.pyplot as plt\n",
    "import matplotlib.colors as mcolors\n",
    "import pandas as pd\n",
    "import verde as vd\n",
    "from gempy_engine.core.data.centered_grid import CenteredGrid\n",
    "import gemgis as gg\n",
    "import pyvista as pv\n",
    "\n",
    "import time, array, random\n",
    "\n",
    "from deap import base, creator, tools, algorithms\n",
    "\n",
    "from CODES.modeling import create_seismic_model,calculate_parameters,calculate_parameters_from_vs\n",
    "from CODES.dispersion_curves import create_velocity_model_from_profile,estimate_disp_from_velocity_model"
   ]
  },
  {
   "cell_type": "markdown",
   "id": "973b9827-88a6-47c2-95e3-ad9ebb8c6438",
   "metadata": {},
   "source": [
    "# Inputs and outputs"
   ]
  },
  {
   "cell_type": "code",
   "execution_count": null,
   "id": "a97395bc-4336-4eb6-b9aa-7082276b833a",
   "metadata": {},
   "outputs": [],
   "source": [
    "folder_model_name = 'MWC'"
   ]
  },
  {
   "cell_type": "markdown",
   "id": "e22aecae-3fa7-4a3c-b9b3-aa5bfe374962",
   "metadata": {},
   "source": [
    "### Directory for saving model and other related stuffs: "
   ]
  },
  {
   "cell_type": "code",
   "execution_count": null,
   "id": "3ed71668-3a85-493c-a3da-e4798759e7a8",
   "metadata": {},
   "outputs": [],
   "source": [
    "data_path = 'OUTPUT/'+folder_model_name+'/DATA/'"
   ]
  },
  {
   "cell_type": "markdown",
   "id": "7abbaf95-216e-46c5-b9f0-473d0ac1ce11",
   "metadata": {},
   "source": [
    "### Directory for saving figures: "
   ]
  },
  {
   "cell_type": "code",
   "execution_count": null,
   "id": "bde68a16-add6-4a34-8c90-bc3c5f886e55",
   "metadata": {},
   "outputs": [],
   "source": [
    "figures_path = 'OUTPUT/'+folder_model_name+'/FIGURES/'"
   ]
  },
  {
   "attachments": {},
   "cell_type": "markdown",
   "id": "6dec10c3-5b60-4caa-8ee4-e08896541ae1",
   "metadata": {},
   "source": [
    "----\n",
    "\n",
    "# Synthetic Surface Wave Dispersion Curves (Observed data)\n",
    "\n",
    "### Computations of Surface-Wave Phase-Velocity DCs Based on the Reduced Delta Matrix Method\n",
    "\n",
    "After constructing the model, we computed the synthetic dispersion curves for Rayleigh phase velocities at selected stations,\n",
    "with an inter-station distance of 10 meters along a 2D profile. The theoretical dispersion curves for each station were generated \n",
    "using Dunkin’s approach, which is based on delta matrix theory (Dunkin, 1965). This method was further developed by Herrmann (2013) in CPS330. \n",
    "\n",
    "In our codes, we use DISBA, a computationally efficient Python library for the modeling of surface wave dispersion that implements a subset of codes from Computer Programs in Seismology (CPS) in Python compiled just-in-time with numba.\n",
    "\n",
    "More information see:\n",
    "- [CPS330](https://www.eas.slu.edu/eqc/ComputerProgramsSeismology/CPS/CPS330/cps330c.pdf)\n",
    "- [DISBA](https://github.com/keurfonluu/disba)\n"
   ]
  },
  {
   "cell_type": "markdown",
   "id": "53c89717-53de-4104-ac4f-b5ab211c5b62",
   "metadata": {},
   "source": [
    "## Importing the 3D model previously created"
   ]
  },
  {
   "cell_type": "code",
   "execution_count": null,
   "id": "81f70986-9f21-4c96-96ae-e18f5517e294",
   "metadata": {},
   "outputs": [],
   "source": [
    "density_block = np.load(data_path+'density_block.npy')"
   ]
  },
  {
   "cell_type": "code",
   "execution_count": null,
   "id": "23ffbfcf-8dc1-4192-89c0-0c032935633e",
   "metadata": {},
   "outputs": [],
   "source": [
    "density_block.shape"
   ]
  },
  {
   "cell_type": "markdown",
   "id": "7f6a9367-2c4a-4528-90b8-41bc6622787e",
   "metadata": {},
   "source": [
    "## Creating a receptors to estimate the surface wave curve in a selected slice:"
   ]
  },
  {
   "cell_type": "code",
   "execution_count": null,
   "id": "d269253b-9d21-4a9f-82b7-61bcd13a9af4",
   "metadata": {},
   "outputs": [],
   "source": [
    "lst_receptor = np.arange(1, density_block.shape[0]-1,5)"
   ]
  },
  {
   "cell_type": "code",
   "execution_count": null,
   "id": "ed62c043-d820-443e-b22b-866ffff0754e",
   "metadata": {},
   "outputs": [],
   "source": [
    "lst_receptor"
   ]
  },
  {
   "cell_type": "code",
   "execution_count": null,
   "id": "a88e8d58-5609-4d30-a8fd-63547c8f901c",
   "metadata": {},
   "outputs": [],
   "source": [
    "line_row = np.random.randint(low=0,high=density_block.shape[0]-1)\n",
    "line_row"
   ]
  },
  {
   "cell_type": "code",
   "execution_count": null,
   "id": "bd4a95a8-915c-4ea9-8f12-ada4fe1e03a7",
   "metadata": {},
   "outputs": [],
   "source": [
    "slice_block = density_block[line_row,:,:].T"
   ]
  },
  {
   "cell_type": "markdown",
   "id": "405eb7c2-473c-4802-9439-70d151bb531f",
   "metadata": {},
   "source": [
    "### Plotting the scheme: Receptors and slice"
   ]
  },
  {
   "cell_type": "code",
   "execution_count": null,
   "id": "262194e1-fb47-4fec-9463-cc1ae23ba8b5",
   "metadata": {},
   "outputs": [],
   "source": [
    "fig,ax = plt.subplots(1, 1, figsize=(10, 5))\n",
    "\n",
    "im = plt.imshow(slice_block, cmap='cividis',extent=[0, 100, -2.0, 0],vmin=1.0,vmax=2.0,aspect=25,origin='lower')\n",
    "\n",
    "for ix in lst_receptor:\n",
    "    ax.vlines(x=ix*2,ymin=-2.0,ymax=0,colors='k',lw=1.0,ls='--',alpha=0.7)\n",
    "    ax.scatter(x=ix*2,y=0.05,color='k',marker='v')\n",
    "\n",
    "ax.hlines(y=0,xmin=0,xmax=100,colors='k',lw=2,ls='-',alpha=1)\n",
    "ax.set_xlabel('Distance (m)')\n",
    "ax.set_ylabel('Depth (m)')\n",
    "ax.grid(which='major', color='gray', linestyle='-', linewidth=0.5)\n",
    "ax.grid(which='minor', color='gray', linestyle=':', linewidth=0.5, alpha=0.5)\n",
    "plt.colorbar(im, ax=ax,fraction=0.15, shrink=0.5,label='Density (kg/cm³)')\n",
    "fig.savefig(figures_path+'model_slice_and_receptors.png')"
   ]
  },
  {
   "cell_type": "code",
   "execution_count": null,
   "id": "8f66b418-da34-420d-9bce-84e7a710439c",
   "metadata": {},
   "outputs": [],
   "source": [
    "density_lst = []\n",
    "vels_lst = []\n",
    "depth_lst = []\n",
    "dispersion_curve_lst = []\n",
    "hz_lst = [] \n",
    "\n",
    "profile_number = np.random.random(size=1)\n",
    "\n",
    "for ix in lst_receptor:\n",
    "    fig, (ax, ax1, ax2, ax3) = plt.subplots(1, 4, figsize=(30, 5))\n",
    "    \n",
    "    # ----------\n",
    "    # Slice plot\n",
    "    \n",
    "    im = ax.imshow(slice_block, cmap='cividis',extent=[0, 100, -2.0, 0],vmin=1.00,vmax=2.00,aspect=50,origin='lower')\n",
    "    ax.vlines(x=ix*2,ymin=-2.0,ymax=0,colors='k',lw=1.0,ls='--',alpha=0.7)\n",
    "    ax.scatter(x=ix*2,y=0.05,color='k',marker='v')\n",
    "    ax.hlines(y=0,xmin=0,xmax=100,colors='k',lw=2,ls='-',alpha=1)\n",
    "    ax.set_xlabel('Distance (m)')\n",
    "    ax.set_ylabel('Depth (m)')\n",
    "    plt.colorbar(im, ax=ax,fraction=0.2, shrink=0.5,label='Density (kg/cm³)')\n",
    "    \n",
    "    # --------------------\n",
    "    # Density x Depth plot\n",
    "    \n",
    "    density_lst.append(slice_block[:,ix])  \n",
    "    depth_lst.append(np.linspace(-2., 0,len(slice_block[:,ix])))  \n",
    "    ax1.plot(slice_block[:,ix],np.linspace(-2., 0,len(slice_block[:,ix])),'-k')\n",
    "    ax1.set_xlim(0.90,2.10)\n",
    "    ax1.set_ylim(-2.0,0.0)\n",
    "    ax1.grid(which='major', color='gray', linestyle='-', linewidth=0.5)\n",
    "    ax1.grid(which='minor', color='gray', linestyle=':', linewidth=0.5, alpha=0.5)\n",
    "    ax1.set_xlabel('Density (g/cm³)')\n",
    "    ax1.set_ylabel('Depth (m)')\n",
    "    \n",
    "    # ------------------------------------------------------\n",
    "    # Creating the velocity model in function of the density\n",
    "    \n",
    "    velocity_model = create_velocity_model_from_profile(model_profile=slice_block[:,ix][::-1])\n",
    "\n",
    "    # -----------------------------------------------------------\n",
    "    # Estimating P- and S-wave velocity in function of the density\n",
    "    \n",
    "    velocity_p,velocity_s = calculate_parameters(slice_block[:,ix])\n",
    "    vels_lst.append(velocity_s)  \n",
    "\n",
    "    # --------------------------------\n",
    "    # Shear-wave velocity x Depth plot\n",
    "\n",
    "    ax2.plot(velocity_s,np.linspace(-2., 0,len(slice_block[:,ix])),'-k')\n",
    "    ax2.set_ylim(-2.0,0.0)\n",
    "    ax2.grid('on')    \n",
    "    ax2.set_xlabel('S-wave velocity (m/s)')\n",
    "    ax2.set_ylabel('Depth (m)')\n",
    "\n",
    "    # -----------------------------------------------------------\n",
    "    # Compute the Rayleigh-wave fundamental mode dispersion curve\n",
    "    \n",
    "    cpr = estimate_disp_from_velocity_model(velocity_model)  \n",
    "\n",
    "    dispersion_curve_lst.append(cpr.velocity*1000)\n",
    "    hz_lst.append(1/cpr.period)\n",
    "    \n",
    "    # ---------------------\n",
    "    # Dispersion curve plot\n",
    "    \n",
    "    ax3.plot(1/cpr.period,cpr.velocity*1000,'-k')\n",
    "    ax3.grid('on')\n",
    "    ax3.set_xlim(1,100)\n",
    "    ax3.set_ylabel('Phase velocity (m/s)')\n",
    "    ax3.set_xlabel('Frequency (Hz)')\n",
    "\n",
    "    # ---------------------\n",
    "    # Saving plot\n",
    "    \n",
    "    fig.savefig(figures_path+'slice_and_profiles_'+str(ix*2)+'.png')"
   ]
  },
  {
   "cell_type": "markdown",
   "id": "177dfb5a-1fe7-4c19-bdc9-86c565bf3dae",
   "metadata": {},
   "source": [
    "## Create and save a dataframe with the observed data generated"
   ]
  },
  {
   "cell_type": "code",
   "execution_count": null,
   "id": "7b7e42af-12ae-468a-b986-ab115027d69a",
   "metadata": {},
   "outputs": [],
   "source": [
    "dic_obs_data = {'density':density_lst,'velocity_s':vels_lst,'depth':depth_lst,'dispersion_curve':dispersion_curve_lst,'frequency':hz_lst}"
   ]
  },
  {
   "cell_type": "code",
   "execution_count": null,
   "id": "03743241-a8bb-4ce8-b665-4390d4540bdb",
   "metadata": {},
   "outputs": [],
   "source": [
    "obs_data = pd.DataFrame.from_dict(dic_obs_data)"
   ]
  },
  {
   "cell_type": "code",
   "execution_count": null,
   "id": "5f04f88c-515c-4e74-be55-919d6e7a0df3",
   "metadata": {},
   "outputs": [],
   "source": [
    "obs_data.to_feather(data_path+'observed_data.feather')"
   ]
  },
  {
   "cell_type": "code",
   "execution_count": null,
   "id": "6be9addd-7aa9-4b51-986e-93557b7a0857",
   "metadata": {},
   "outputs": [],
   "source": []
  }
 ],
 "metadata": {
  "kernelspec": {
   "display_name": "Python 3 (ipykernel)",
   "language": "python",
   "name": "python3"
  },
  "language_info": {
   "codemirror_mode": {
    "name": "ipython",
    "version": 3
   },
   "file_extension": ".py",
   "mimetype": "text/x-python",
   "name": "python",
   "nbconvert_exporter": "python",
   "pygments_lexer": "ipython3",
   "version": "3.12.2"
  }
 },
 "nbformat": 4,
 "nbformat_minor": 5
}
