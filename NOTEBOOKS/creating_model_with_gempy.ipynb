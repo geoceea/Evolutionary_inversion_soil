{
 "cells": [
  {
   "cell_type": "code",
   "execution_count": null,
   "id": "b2e37adc-a516-4f7b-b60f-ea45c6ad1c31",
   "metadata": {},
   "outputs": [],
   "source": [
    "# Import necessary libraries\n",
    "import gempy as gp\n",
    "import gempy_viewer as gpv\n",
    "import glob\n",
    "import numpy as np\n",
    "import matplotlib.pyplot as plt\n",
    "import matplotlib.colors as mcolors\n",
    "import pandas as pd\n",
    "import os\n",
    "import verde as vd\n",
    "import gemgis as gg\n",
    "import pyvista as pv\n",
    "from disba import PhaseDispersion,EigenFunction,PhaseSensitivity\n",
    "\n",
    "import time, array, random\n",
    "\n",
    "from deap import base, creator, tools, algorithms\n",
    "from IPython.display import display, HTML\n",
    "\n",
    "\n",
    "from CODES.modeling import create_seismic_model,calculate_parameters,calculate_parameters_from_vs\n",
    "from CODES.pyvista_create_gif import pyvista_create_gif"
   ]
  },
  {
   "cell_type": "markdown",
   "id": "973b9827-88a6-47c2-95e3-ad9ebb8c6438",
   "metadata": {},
   "source": [
    "# Inputs and outputs"
   ]
  },
  {
   "cell_type": "code",
   "execution_count": null,
   "id": "3e82eba4-544d-4cb4-8466-1299a5caf197",
   "metadata": {},
   "outputs": [],
   "source": [
    "folder_model_name = 'MCP1'"
   ]
  },
  {
   "cell_type": "markdown",
   "id": "b50e9a9e-537e-42a1-8098-efc87061fbea",
   "metadata": {},
   "source": [
    "### Directory for saving model and other related stuffs: "
   ]
  },
  {
   "cell_type": "code",
   "execution_count": null,
   "id": "db030e0d-0864-4d89-bdc4-872c32982f39",
   "metadata": {},
   "outputs": [],
   "source": [
    "data_path = 'OUTPUT/'+folder_model_name+'/DATA/'"
   ]
  },
  {
   "cell_type": "markdown",
   "id": "9b1d7b34-0629-451a-aacb-4b7f24ad47a1",
   "metadata": {},
   "source": [
    "### Directory for saving figures: "
   ]
  },
  {
   "cell_type": "code",
   "execution_count": null,
   "id": "3ed71668-3a85-493c-a3da-e4798759e7a8",
   "metadata": {},
   "outputs": [],
   "source": [
    "figures_path = 'OUTPUT/'+folder_model_name+'/FIGURES/'"
   ]
  },
  {
   "cell_type": "code",
   "execution_count": null,
   "id": "22836b90-4c84-428d-8b93-511c51b2069e",
   "metadata": {},
   "outputs": [],
   "source": [
    "# Creating directories: \n",
    "os.makedirs(data_path,exist_ok=True)\n",
    "os.makedirs(figures_path,exist_ok=True)"
   ]
  },
  {
   "cell_type": "markdown",
   "id": "97f0b90e-ec0c-4f0c-b2dd-5e4ecc26bb3d",
   "metadata": {},
   "source": [
    "----\n",
    "\n",
    "# The model will be created by the **GemPy** (https://www.gempy.org/)\n",
    "### Completely free and open-source, Python-based project for generating 3D structural geological models. \n",
    "### Utilizing an implicit modeling approach, it enables the creation of complex combinations \n",
    "### of stratigraphical and structural features, including folds, faults, and unconformities. \n",
    "\n",
    "The core algorithm of GemPy is based on a universal cokriging interpolation method devised by Lajaunie et al. (1997) and extended by Calcagno et al. (2008). Its implicit nature allows the user to automatically generate complex 3D structural geological models through the interpolation of: (1) surface contact points (3D coordinates of points marking the boundaries between different features, such as layer interfaces, fault planes, unconformities), and (2) orientation measurements (orientations of the poles perpendicular to the dipping of surfaces at any point in the 3D space).\n",
    "\n",
    "## Input parameters for creating the model:\n",
    "The 3D model will be developed based on the 2D grid and the specified number of layers—in this case, three stacked horizontal layers over a half-space."
   ]
  },
  {
   "attachments": {
    "d67a3376-cd58-4a19-922f-baa16fff2f2e.png": {
     "image/png": "[encoded data removed]"
    }
   },
   "cell_type": "markdown",
   "id": "16686a7f-724c-4fab-856f-d8f0be6846a7",
   "metadata": {},
   "source": [
    "![image.png](attachment:d67a3376-cd58-4a19-922f-baa16fff2f2e.png)"
   ]
  },
  {
   "cell_type": "markdown",
   "id": "8a47d269-463d-4b7e-82e3-f5cbdee2f9d9",
   "metadata": {},
   "source": [
    "# **Examples of models**: "
   ]
  },
  {
   "cell_type": "markdown",
   "id": "36f2f802-d4ed-4d29-a017-14641b915e3e",
   "metadata": {},
   "source": [
    "Four different models were adopted to represent soil compaction in terms of density.  \n",
    "1. The model without compaction (**MWC**) was used as a reference, presenting the normal density variation in the layers.\n",
    "2. The **MCP1** model simulated compaction in the first layer, characterized by a higher of this layer.\n",
    "3. The **MCP2-1** model considered compaction in the second layer with lateral density variation,\n",
    "4. the **MCP2-2** model represented compaction in the second layer without lateral variation.\n",
    "\n",
    "This approach allowed exploring different soil compaction scenarios and analyzing how these configurations impact the dispersion of surface waves, contributing to the identification and detailed characterization of compaction in agricultural soils. "
   ]
  },
  {
   "cell_type": "code",
   "execution_count": null,
   "id": "5bc227ee-7319-4f53-b717-662e53f4c055",
   "metadata": {},
   "outputs": [],
   "source": [
    "#    MWC\n",
    "#    depth_ranges = [(-0.3, -0.5), (-0.8, -1.0), (-1.3, -1.5)] # meters\n",
    "#    density_ranges = [(1.1, 1.2), (1.3, 1.4), (1.5, 1.7)] # g/cm³"
   ]
  },
  {
   "cell_type": "code",
   "execution_count": null,
   "id": "bec6b6e9-d260-48a6-93c5-f3c45ba6859c",
   "metadata": {},
   "outputs": [],
   "source": [
    "#    MCP1\n",
    "#    depth_ranges = [(-0.3, -0.5), (-0.8, -1.0), (-1.3, -1.5)] # meters\n",
    "#    density_ranges = [(1.6, 1.7), (1.2, 1.3), (1.4, 1.5)] # g/cm³"
   ]
  },
  {
   "cell_type": "code",
   "execution_count": null,
   "id": "a9b2b3e0-bd76-4686-842a-ebb0d0463bb4",
   "metadata": {},
   "outputs": [],
   "source": [
    "#    MCP2-1\n",
    "#    depth_ranges = [(-0.3, -0.5), (-0.8, -1.0), (-1.3, -1.5)] # meters\n",
    "#    density_ranges = [(1.1, 1.2), (1.5, 1.7), (1.3, 1.4)] # g/cm³"
   ]
  },
  {
   "cell_type": "code",
   "execution_count": null,
   "id": "deb1a53d-095e-47b6-925f-125ae1b55010",
   "metadata": {},
   "outputs": [],
   "source": [
    "#    MCP2-2\n",
    "#    depth_ranges = [(-0.4, -0.4), (-0.9, -0.9), (-1.5, -1.5)] # meters\n",
    "#    density_ranges = [(1.1, 1.2), (1.5, 1.7), (1.3, 1.4)] # g/cm³"
   ]
  },
  {
   "cell_type": "markdown",
   "id": "0fb51b6e-cf27-4ef8-9273-5061d7d2ead5",
   "metadata": {},
   "source": [
    "### Layers of the Model:\n",
    "- Number of layers: 3 horizontal layers\n",
    "- Layer depths: Randomly selected from a predefined list of tuples"
   ]
  },
  {
   "cell_type": "code",
   "execution_count": null,
   "id": "e363d0ef-a1f7-4d9d-be77-483e040b0390",
   "metadata": {},
   "outputs": [],
   "source": [
    "num_layers = 3\n",
    "depth_ranges = [(-0.3, -0.5), (-0.8, -1.0), (-1.3, -1.5)] # meters\n",
    "density_ranges = [(1.6, 1.7), (1.2, 1.3), (1.4, 1.5)] # g/cm³"
   ]
  },
  {
   "cell_type": "markdown",
   "id": "4608bca4-0224-4b13-a9b1-ab3bb6a919f0",
   "metadata": {},
   "source": [
    "-------------"
   ]
  },
  {
   "cell_type": "markdown",
   "id": "6f3808af-c41c-4193-b811-6799b071b01a",
   "metadata": {},
   "source": [
    "### Grid Parameters:\n",
    "\n",
    "As the layers are horizontal, there is no needed to over sampling.\n",
    "\n",
    "- Profile length: 100 meters\n",
    "- Node spacing: 25 meters"
   ]
  },
  {
   "cell_type": "code",
   "execution_count": null,
   "id": "863dd383-8f02-496e-bdc0-427e32767216",
   "metadata": {},
   "outputs": [],
   "source": [
    "spacing = 25\n",
    "\n",
    "west, east, south, north = 0, 100, 0, 100\n",
    "region = (west, east, south, north)\n",
    "\n",
    "# create the grid coordinates\n",
    "X,Y = vd.grid_coordinates(region=region, spacing=spacing)"
   ]
  },
  {
   "cell_type": "code",
   "execution_count": null,
   "id": "a539d15b-ccf6-43b6-85ba-cf79b80543b2",
   "metadata": {
    "scrolled": true
   },
   "outputs": [],
   "source": [
    "plt.figure(figsize=(5, 5))\n",
    "ax = plt.subplot(111)\n",
    "ax.scatter(X,Y,s=10,c='k',marker='.')\n",
    "ax.set_title('2D grid created')\n",
    "plt.xlabel(\"Easting\")\n",
    "plt.ylabel(\"Northing\")\n",
    "plt.savefig(figures_path+'grid.png')"
   ]
  },
  {
   "cell_type": "markdown",
   "id": "b4a957b2-0a9c-483d-a03f-87cd9e42957f",
   "metadata": {},
   "source": [
    "---------------"
   ]
  },
  {
   "cell_type": "code",
   "execution_count": null,
   "id": "557b454e-7d12-4096-9c89-b41eb5cf05fb",
   "metadata": {},
   "outputs": [],
   "source": [
    "model = create_seismic_model(depth_ranges=depth_ranges,density_ranges=density_ranges,num_layers=num_layers,xi=X,yj=Y)"
   ]
  },
  {
   "cell_type": "markdown",
   "id": "e6a72bd4-d37c-44cc-99ba-89b753fed57e",
   "metadata": {},
   "source": [
    "### Ploting 2D profile created:"
   ]
  },
  {
   "cell_type": "code",
   "execution_count": null,
   "id": "eadbafac-42d6-4bb7-8b76-0253f70af272",
   "metadata": {},
   "outputs": [],
   "source": [
    "density_grid = np.concatenate(model['densities'])\n",
    "depth_grid = np.concatenate(model['depths'])"
   ]
  },
  {
   "cell_type": "code",
   "execution_count": null,
   "id": "6af607b1-b7d7-4766-87e7-c51ea01b222b",
   "metadata": {},
   "outputs": [],
   "source": [
    "# Plotar o perfil de densidade ajustado\n",
    "fig, ax = plt.subplots(figsize=(12, 6))\n",
    "cmap = plt.get_cmap(\"cividis\")\n",
    "norm = mcolors.Normalize(vmin=1.0, vmax=2.0)\n",
    "extent = [0, 100, -1.5, 0]\n",
    "cax = ax.imshow(density_grid, extent=extent, origin='upper', cmap=cmap, aspect='auto', norm=norm)\n",
    "\n",
    "# Adicionar barra de cores\n",
    "cbar = fig.colorbar(cax)\n",
    "cbar.set_label('Density (g/cm³)', rotation=270, labelpad=15)\n",
    "\n",
    "# Configurações do gráfico\n",
    "ax.set_xlabel('Distance (m)')\n",
    "ax.set_ylabel('Depth (m)')\n",
    "ax.set_title('Density in function of depth and distance')\n",
    "\n",
    "# Ajustar layout e salvar o gráfico\n",
    "plt.tight_layout()\n",
    "plt.savefig(figures_path+'profile_density.png', dpi=300)\n",
    "plt.show()"
   ]
  },
  {
   "cell_type": "markdown",
   "id": "6858a15f-5908-402c-a4cd-3cbbad2e5f07",
   "metadata": {},
   "source": [
    "# Creating a dataframe with information about the 3-layers soil profile\n",
    "# Adding depth values to each point of the created 2D grid\n",
    "\n",
    "This information is important to configure the GemPy model object, including defining structural groups and configuring their properties. \n",
    "\n",
    "This is a crucial step in setting up the structural framework of the geological model.\n",
    "\n",
    "#### Creating files for ImporterHelper (https://docs.gempy.org/Helper%20Classes/gempy.core.data.ImporterHelper.html#gempy.core.data.ImporterHelper):\n",
    "- **points.csv**\n",
    "\n",
    "Data child with specific methods to manipulate interface data. It is initialize without arguments to giveflexibility to the origin of the data."
   ]
  },
  {
   "cell_type": "code",
   "execution_count": null,
   "id": "d5973747-e4cd-48c0-b7cf-8b27a81e6d0c",
   "metadata": {},
   "outputs": [],
   "source": [
    "lst_soils = []\n",
    "for l in range(num_layers):\n",
    "    for k in range(len(model['xi'][l].ravel())):\n",
    "            lst_soils.append({'X':model['xi'][l].ravel()[k], 'Y':model['yj'][l].ravel()[k], 'Z':model['depths'][l].ravel()[k], 'formation':model['formation'][l]})"
   ]
  },
  {
   "cell_type": "code",
   "execution_count": null,
   "id": "5d5c2d0f-8081-4b82-b244-918a64aba73a",
   "metadata": {},
   "outputs": [],
   "source": [
    "soils_df = pd.DataFrame.from_dict(data=lst_soils)"
   ]
  },
  {
   "cell_type": "code",
   "execution_count": null,
   "id": "1df2c6d3-7fe6-460c-a0e5-1f9c95737407",
   "metadata": {},
   "outputs": [],
   "source": [
    "soils_df"
   ]
  },
  {
   "cell_type": "code",
   "execution_count": null,
   "id": "d51937fd-08af-4481-83a2-9e840b7e3582",
   "metadata": {},
   "outputs": [],
   "source": [
    "if os.path.exists(data_path+'points.csv' ):\n",
    "    os.remove(data_path+'points.csv')\n",
    "soils_df.to_csv(data_path+'points.csv', header=soils_df.columns, index=None, sep=',', mode='a')"
   ]
  },
  {
   "cell_type": "markdown",
   "id": "4525337f-a0ea-4d60-9021-12299f5ef360",
   "metadata": {},
   "source": [
    "- **orientation.csv**\n",
    "\n",
    "Data child with specific methods to manipulate orientation data. It is initialize without arguments to giveflexibility to the origin of the data."
   ]
  },
  {
   "cell_type": "code",
   "execution_count": null,
   "id": "9f868a02-7c54-46e0-a925-cdec4e667d5f",
   "metadata": {},
   "outputs": [],
   "source": [
    "lst_soils_orient = []\n",
    "for l in range(num_layers):\n",
    "    for tim in range(4):\n",
    "        lst_soils_orient.append({'X':np.random.choice(model['xi'][l].ravel())*0.75, 'Y':np.random.choice(model['yj'][l].ravel())*0.75, 'Z':np.random.choice(model['depths'][l].ravel())*0.9, 'formation':model['formation'][l],'Azimuth':0,'Dip':0,'Polarity':1})\n",
    "soils_orient_df = pd.DataFrame.from_dict(data=lst_soils_orient)"
   ]
  },
  {
   "cell_type": "code",
   "execution_count": null,
   "id": "cab81a2c-7464-4723-a01b-0c6c0e98c75c",
   "metadata": {},
   "outputs": [],
   "source": [
    "soils_orient_df"
   ]
  },
  {
   "cell_type": "code",
   "execution_count": null,
   "id": "bb18f90d-5151-44d0-b7aa-56317eed7463",
   "metadata": {},
   "outputs": [],
   "source": [
    "if os.path.exists(data_path+'orientations.csv' ):\n",
    "    os.remove(data_path+'orientations.csv')\n",
    "soils_orient_df.to_csv(data_path+'orientations.csv', header=soils_orient_df.columns, index=None, sep=',', mode='a')"
   ]
  },
  {
   "cell_type": "markdown",
   "id": "878cb6c9-40cf-49ca-a672-6410cf184e5c",
   "metadata": {},
   "source": [
    "## Create instance of geomodel\n",
    "\n",
    "**Parameters:**\n",
    "- project_name (str, optional) – The name of the project. Defaults to ‘default_project’.\n",
    "- extent (Union[List, np.ndarray], optional) – The 3D extent of the grid. Must be provided if resolution is specified. Defaults to None.\n",
    "- resolution (Union[List, np.ndarray], optional) – The resolution of the grid. If None, an octree grid will be initialized. Defaults to None.\n",
    "- refinement (int, optional) – The level of refinement for the octree grid. Defaults to 1.\n",
    "- structural_frame (StructuralFrame, optional) – The structural frame of the GeoModel. Either this or importer_helper must be provided. Defaults to None.\n",
    "- importer_helper (ImporterHelper, optional) – Helper object for importing structural elements. Either this or structural_frame must be provided. Defaults to None.\n",
    "\n",
    "**Returns:**\n",
    "The initialized GeoModel object.\n",
    "\n",
    "class gempy.core.data.ImporterHelper(\n",
    "- path_to_surface_points: str, \n",
    "- path_to_orientations: str)\n",
    "\n"
   ]
  },
  {
   "cell_type": "code",
   "execution_count": null,
   "id": "20e06525-a6ae-4e44-b6ed-674816cb78ba",
   "metadata": {},
   "outputs": [],
   "source": [
    "grid_reso = 50\n",
    "# Dados do modelo\n",
    "extent = [0, 100, 0, 100, -2,0]  # [x_min, x_max, y_min, y_max, z_min, z_max]\n",
    "resolution = [grid_reso,grid_reso,int(grid_reso/2)]  # Resolução do grid\n",
    "\n",
    "\n",
    "data = gp.create_geomodel(\n",
    "    project_name='soil_horizontal',\n",
    "    extent=extent,\n",
    "    resolution=resolution,\n",
    "    importer_helper=gp.data.ImporterHelper(\n",
    "        path_to_orientations=data_path+\"/orientations.csv\",\n",
    "        path_to_surface_points=data_path+\"/points.csv\"\n",
    "    )\n",
    ")"
   ]
  },
  {
   "cell_type": "markdown",
   "id": "823c6fdd-4ea5-49c1-bbff-95a8cafd2367",
   "metadata": {},
   "source": [
    "## Compute the geological model. This involves setting interpolation options and executing the computation to generate the 3D geological structure."
   ]
  },
  {
   "cell_type": "code",
   "execution_count": null,
   "id": "5cbe8f3f-df46-4015-9b83-1786f87c1811",
   "metadata": {},
   "outputs": [],
   "source": [
    "gp.compute_model(data)\n",
    "geo_data = data"
   ]
  },
  {
   "cell_type": "markdown",
   "id": "f91e1cb5-3c26-4d19-9eb0-f5af7d2fc30e",
   "metadata": {},
   "source": [
    "## Define structural groups and age/stratigraphic relationship previous created"
   ]
  },
  {
   "cell_type": "code",
   "execution_count": null,
   "id": "d932cae3-b68e-4a15-8f07-ea3fe5ca3bec",
   "metadata": {},
   "outputs": [],
   "source": [
    "gp.map_stack_to_surfaces(\n",
    "    gempy_model=geo_data,\n",
    "    mapping_object={\n",
    "        \"Strat_Series1\": tuple(soils_orient_df.formation.unique().tolist())\n",
    "    }\n",
    ")"
   ]
  },
  {
   "cell_type": "code",
   "execution_count": null,
   "id": "c3d758f6-a9c4-4121-aac4-6f96f7b7d49c",
   "metadata": {},
   "outputs": [],
   "source": [
    "gp.compute_model(geo_data)"
   ]
  },
  {
   "cell_type": "markdown",
   "id": "9e78e252-29f1-497d-87a6-575e87791f22",
   "metadata": {},
   "source": [
    "## Plot the result of the model"
   ]
  },
  {
   "cell_type": "code",
   "execution_count": null,
   "id": "3c0951d7-4667-4021-9030-dc2dc57e4ce8",
   "metadata": {},
   "outputs": [],
   "source": [
    "gpv.plot_2d(geo_data, direction=['x'],ve=25, show_data=True, show_boundaries=True)"
   ]
  },
  {
   "cell_type": "code",
   "execution_count": null,
   "id": "f85ffa60-c82c-4030-8e2a-043c263a4955",
   "metadata": {},
   "outputs": [],
   "source": [
    "gpv.plot_2d(geo_data, cell_number=[-1], direction=['y'],ve=10, show=True,kwargs_regular_grid={'alpha': .5})"
   ]
  },
  {
   "cell_type": "code",
   "execution_count": null,
   "id": "b104fafc-c5d2-44af-9094-e493d33bb6ae",
   "metadata": {},
   "outputs": [],
   "source": [
    "gempy_plot = gpv.plot_3d(\n",
    "    model=geo_data,\n",
    "    show_scalar=False,\n",
    "    ve=10,\n",
    "    show=False,\n",
    "    image=False,\n",
    "    transformed_data=False,\n",
    "    kwargs_pyvista_bounds={\n",
    "            'show_xlabels': False,\n",
    "            'show_ylabels': False,\n",
    "            'show_zlabels': True,\n",
    "            'show_xaxis': False,\n",
    "            'show_yaxis': False,\n",
    "    },\n",
    "    kwargs_plot_data={\n",
    "            'arrow_size': 40.0\n",
    "    }\n",
    ")\n",
    "\n",
    "\n",
    "\n",
    "gempy_plot.p.show()"
   ]
  },
  {
   "cell_type": "code",
   "execution_count": null,
   "id": "b22737ac-d368-48ad-a92b-c5944f3aa450",
   "metadata": {},
   "outputs": [],
   "source": [
    "gpv.plot_2d(geo_data, show_value=False, show_lith=False, show_scalar=False,legend=False, cell_number='mid')"
   ]
  },
  {
   "cell_type": "markdown",
   "id": "a6acf2be-ae8d-4bcd-bd08-e8a163f48a2a",
   "metadata": {},
   "source": [
    "-----------------"
   ]
  },
  {
   "cell_type": "markdown",
   "id": "900b16a9-76d5-42a5-8192-5e22f31819e0",
   "metadata": {},
   "source": [
    "# The lith block of a computed GemPy model is loaded using NumPy and reshaped to the original dimensions (resolution) of the model.\n",
    "\n",
    "*The lith block of a GemPy model returns the spatial distribution of layers in the subsurface.*\\\n",
    "*Assuming homogeneous layers and no change in properties with depth, physical properties can easily be assigned to these lithologies.*\\\n",
    "*These could include seismic velocities and densities or thermal conductivities to provide a first estimate of temperatures at depth.*\\\n",
    "Example in https://gemgis.readthedocs.io/en/latest/getting_started/tutorial/51_assigning_physical_properties_to_lith_block.html?highlight=assign_properties\n",
    "\n",
    "## gemgis.utils.assign_properties(lith_block: numpy.ndarray, property_dict: dict) → numpy.ndarray\n",
    "\n",
    "Replacing lith block IDs with physical properties\n",
    "\n",
    "**Parameters:**\n",
    "- lith_block (np.ndarray) – GemPy lith block array containing the surface IDs\n",
    "- property_array (dict) – Dict containing the property values mapped to a surface ID\n",
    "\n",
    "**Returns:**\n",
    "- property_block – Array containing the properties\n",
    "\n",
    "**Return type:**\n",
    "- np.ndarray"
   ]
  },
  {
   "cell_type": "code",
   "execution_count": null,
   "id": "0ba1b999-2542-421e-8fea-b0facde8e688",
   "metadata": {},
   "outputs": [],
   "source": [
    "lith_block = geo_data.solutions.raw_arrays.lith_block.reshape(grid_reso,grid_reso,int(grid_reso/2))\n",
    "lith_block.shape"
   ]
  },
  {
   "cell_type": "markdown",
   "id": "b6d3413d-5b78-47a6-8c02-bb667b5a18de",
   "metadata": {},
   "source": [
    "### Unique values of the array."
   ]
  },
  {
   "cell_type": "code",
   "execution_count": null,
   "id": "84cfcb94-0516-4b6f-81af-c31530ee659c",
   "metadata": {},
   "outputs": [],
   "source": [
    "density_values,density_index = np.unique(geo_data.solutions.raw_arrays.lith_block,return_index=True) "
   ]
  },
  {
   "cell_type": "code",
   "execution_count": null,
   "id": "8ba00def-dd66-498a-ab8d-db28d070bd06",
   "metadata": {},
   "outputs": [],
   "source": [
    "density_values[np.argsort(density_index)]"
   ]
  },
  {
   "cell_type": "code",
   "execution_count": null,
   "id": "8f7e0dc8-5509-4c4f-acba-a4d84e1b02d5",
   "metadata": {},
   "outputs": [],
   "source": [
    "density_values = [np.mean(i) for i in model['densities']]\n",
    "density_values.append(2.0) # Basement density (g/cm³)"
   ]
  },
  {
   "cell_type": "markdown",
   "id": "86632e92-7dd6-450b-929a-2068af7702f1",
   "metadata": {},
   "source": [
    "### Sample values are stored as list and will then be converted to to a dictionary."
   ]
  },
  {
   "cell_type": "code",
   "execution_count": null,
   "id": "2d2eb978-10c0-488e-93cb-b9ee4fcf2a95",
   "metadata": {},
   "outputs": [],
   "source": [
    "density_dict = {k: v for k,v in zip(np.unique(np.round(lith_block)), density_values)} \n",
    "density_dict"
   ]
  },
  {
   "cell_type": "markdown",
   "id": "a02dce39-15f9-4e89-b15f-dd0b5fdf9a75",
   "metadata": {},
   "source": [
    "### The density block will then be calculated."
   ]
  },
  {
   "cell_type": "code",
   "execution_count": null,
   "id": "3943736b-3825-46d0-ace2-ea6482180a0c",
   "metadata": {},
   "outputs": [],
   "source": [
    "density_block = gg.utils.assign_properties(lith_block=lith_block, property_dict=density_dict)\n",
    "density_block[0]"
   ]
  },
  {
   "cell_type": "code",
   "execution_count": null,
   "id": "2cb80798-3446-4f4a-b229-147ec817b8aa",
   "metadata": {},
   "outputs": [],
   "source": [
    "density_block.shape"
   ]
  },
  {
   "cell_type": "markdown",
   "id": "c32dabb3-144a-45fe-bf0d-9e63bfe47486",
   "metadata": {},
   "source": [
    "### The result can then be plotted with PyVista by creating a new Plotter and adding the lines as mesh."
   ]
  },
  {
   "cell_type": "code",
   "execution_count": null,
   "id": "8649bcc5-9a0a-459e-9e63-7bc051c27ea0",
   "metadata": {},
   "outputs": [],
   "source": [
    "np.save(data_path+'density_block.npy', density_block)"
   ]
  },
  {
   "cell_type": "code",
   "execution_count": null,
   "id": "f7aec7a6-8d3a-46f1-ab7d-620857a85a84",
   "metadata": {},
   "outputs": [],
   "source": [
    "volume = pv.wrap(density_block)"
   ]
  },
  {
   "cell_type": "code",
   "execution_count": null,
   "id": "ffb5f788-9c15-43d9-9b72-5e1885ba6686",
   "metadata": {},
   "outputs": [],
   "source": [
    "volume.save(data_path+'density_block.vtk',binary=True)"
   ]
  },
  {
   "cell_type": "markdown",
   "id": "9780e298-da49-49e2-bb0d-85a15ebcbf62",
   "metadata": {},
   "source": [
    "## The result can be plotted:"
   ]
  },
  {
   "cell_type": "code",
   "execution_count": null,
   "id": "e4ede1d7-2b87-43eb-ba3e-4c80091ed1f2",
   "metadata": {},
   "outputs": [],
   "source": [
    "folder_input = 'OUTPUT/'+folder_model_name\n",
    "pyvista_create_gif(folder_input)"
   ]
  },
  {
   "cell_type": "markdown",
   "id": "7bfbec90-f341-44bf-9f4a-e383676358d7",
   "metadata": {},
   "source": [
    "# **3D soil model**"
   ]
  },
  {
   "cell_type": "code",
   "execution_count": null,
   "id": "e61815d5-4700-4264-927e-2ca6ba58a43e",
   "metadata": {},
   "outputs": [],
   "source": [
    "img_src = folder_input+'/FIGURES/block_soil_model.gif'\n",
    "html_code = f'<img src=\"{img_src}\" width=\"750\" align=\"center\">'"
   ]
  },
  {
   "cell_type": "code",
   "execution_count": null,
   "id": "430b142e-cfdf-4f49-b0e9-1dc305503573",
   "metadata": {},
   "outputs": [],
   "source": [
    "display(HTML(html_code))"
   ]
  }
 ],
 "metadata": {
  "kernelspec": {
   "display_name": "Python 3 (ipykernel)",
   "language": "python",
   "name": "python3"
  },
  "language_info": {
   "codemirror_mode": {
    "name": "ipython",
    "version": 3
   },
   "file_extension": ".py",
   "mimetype": "text/x-python",
   "name": "python",
   "nbconvert_exporter": "python",
   "pygments_lexer": "ipython3",
   "version": "3.11.7"
  }
 },
 "nbformat": 4,
 "nbformat_minor": 5
}
